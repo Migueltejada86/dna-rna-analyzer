{ 
 "cells": [
  {
   "cell_type": "code",
   "execution_count": null,
   "id": "import",
   "metadata": {},
   "outputs": [],
   "source": [
    "from analyzer.sequence import SequenceAnalyzer\n",
    "import matplotlib.pyplot as plt\n",
    "import seaborn as sns"
   ]
  },
  {
   "cell_type": "code",
   "execution_count": null,
   "id": "analysis",
   "metadata": {},
   "outputs": [],
   "source": [
    "# Secuencia de ejemplo\n",
    "seq = \"ATGGCTTAGCGTATACGATCGGATCGATTTGCA\"\n",
    "analyzer = SequenceAnalyzer(seq)\n",
    "nucleotide_counts = analyzer.count_nucleotides()"
   ]
  },
  {
   "cell_type": "code",
   "execution_count": null,
   "id": "plot-nucleotides",
   "metadata": {},
   "outputs": [],
   "source": [
    "sns.set(style=\"whitegrid\")\n",
    "plt.figure(figsize=(6, 4))\n",
    "sns.barplot(x=list(nucleotide_counts.keys()), y=list(nucleotide_counts.values()))\n",
    "plt.title(\"Conteo de Nucleótidos\")\n",
    "plt.ylabel(\"Frecuencia\")\n",
    "plt.xlabel(\"Nucleótido\")\n",
    "plt.show()"
   ]
  },
  {
   "cell_type": "code",
   "execution_count": null,
   "id": "gc-content",
   "metadata": {},
   "outputs": [],
   "source": [
    "gc = analyzer.gc_content()\n",
    "print(f\"Contenido GC: {gc}%\")"
   ]
  },
  {
   "cell_type": "code",
   "execution_count": null,
   "id": "transcribe",
   "metadata": {},
   "outputs": [],
   "source": [
    "rna = analyzer.transcribe()\n",
    "print(\"ARN transcrito:\")\n",
    "print(rna)"
   ]
  },
  {
   "cell_type": "code",
   "execution_count": null,
   "id": "translate",
   "metadata": {},
   "outputs": [],
   "source": [
    "protein = analyzer.translate()\n",
    "print(\"Proteína traducida (simplificada):\")\n",
    "print(protein)"
   ]
  },
  {
   "cell_type": "code",
   "execution_count": null,
   "id": "kmers",
   "metadata": {},
   "outputs": [],
   "source": [
    "k = 3\n",
    "kmers = analyzer.find_kmers(k)\n",
    "from collections import Counter\n",
    "kmer_freq = Counter(kmers).most_common(10)\n",
    "k_labels, k_values = zip(*kmer_freq)\n",
    "plt.figure(figsize=(8, 4))\n",
    "sns.barplot(x=list(k_labels), y=list(k_values))\n",
    "plt.title(f\"K-mers más comunes (k={k})\")\n",
    "plt.ylabel(\"Frecuencia\")\n",
    "plt.xlabel(\"K-mer\")\n",
    "plt.show()"
   ]
  }
 ],
 "metadata": {
  "kernelspec": {
   "display_name": "Python 3",
   "language": "python",
   "name": "python3"
  },
  "language_info": {
   "name": "python"
  }
 },
 "nbformat": 4,
 "nbformat_minor": 5
}
